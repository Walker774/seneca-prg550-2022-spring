{
 "cells": [
  {
   "cell_type": "markdown",
   "id": "a1e835f8",
   "metadata": {},
   "source": [
    "# Introduction to Jupyter Notebooks\n",
    "\n",
    "Jupyter notebooks is a GUI-based interactive Python session similar to running `python3` from command line\n",
    "\n",
    "The following sections briefly describe how to navigate around the notebook environment"
   ]
  },
  {
   "cell_type": "markdown",
   "id": "41f77dae",
   "metadata": {},
   "source": [
    "## Editing\n",
    "\n",
    "Default key bindings for working with notebook cells:\n",
    "-  move up / down between cells `arrow up`/`arrow down` or `j`/`k`\n",
    "- 'up', 'down' arrows in menu shift cell order\n",
    "- add new cell below current cell `b`\n",
    "- add new cell below current cell `a`\n",
    "- delete current cell `x` or `dd`\n",
    "\n",
    "### Markdown\n",
    "- use `#` to indicate headings in order to easily find sections of code\n",
    "- sub headings are specified with multiple `#`'s ex:\n",
    "    - `##`\n",
    "    - `###`\n",
    "    - `####`\n",
    "\n",
    "# Heading 1\n",
    "## Heading 2\n",
    "### Heading 3\n",
    "### Heading 4\n",
    "\n",
    "### Checkpoints\n",
    "\n",
    "Make frequent save of your notebook with Menu: --> Save icon\n",
    "\n",
    "You can also take a snapshot of your current code and return to it later by using checkpoints:\n",
    "- File --> Save and Checkpoint\n",
    "- File --> Revert to Checkpoint\n"
   ]
  },
  {
   "cell_type": "markdown",
   "id": "8dcde634",
   "metadata": {},
   "source": [
    "## Cell types\n",
    "\n",
    "There are 3 cell types\n",
    "- code `y`\n",
    "- markdown `m`\n",
    "- raw `r`"
   ]
  },
  {
   "cell_type": "markdown",
   "id": "dab46b25",
   "metadata": {},
   "source": [
    "## Running cells\n",
    "- ctrl-enter, 'run' icon in menu\n",
    "    - bracked number (`[xx]`) to the left of an executed cell is a counter for number of commands run in current session\n",
    "    - only present for `code` cells\n",
    "\n",
    "- cells print output of last command\n",
    "- cells retain all commands and variables of current session\n",
    "- reset session from Menu:  Kernel --> Restart\n",
    "\n",
    "- clear cell output from Menu:  \n",
    "    1. Cell --> Current Output --> Clear\n",
    "    1. Cell --> All Output --> Clear"
   ]
  },
  {
   "cell_type": "markdown",
   "id": "75f71017",
   "metadata": {},
   "source": [
    "# Data Science with Jupyter Notebook\n",
    "\n",
    "Below is an example code cell to visualize some simple data using two popular packages in Python. \n",
    "\n",
    "We'll use [NumPy](https://numpy.org/) to create some random data, and \n",
    "[Matplotlib](https://matplotlib.org) to visualize it.\n"
   ]
  },
  {
   "cell_type": "code",
   "execution_count": null,
   "id": "0b092236",
   "metadata": {},
   "outputs": [],
   "source": [
    "from matplotlib import pyplot as plt\n",
    "import numpy as np\n",
    "\n",
    "# Generate 100 random data points along 3 dimensions\n",
    "x, y, scale = np.random.randn(3, 100)\n",
    "fig, ax = plt.subplots()\n",
    "\n",
    "# Map each onto a scatterplot we'll create with Matplotlib\n",
    "ax.scatter(x=x, y=y, c=scale, s=np.abs(scale)*500)\n",
    "ax.set(title=\"Some random data, created with Jupyter!\")\n",
    "plt.show()"
   ]
  },
  {
   "cell_type": "markdown",
   "id": "330152fb",
   "metadata": {},
   "source": [
    "## Loading Datasets into Pandas\n",
    "\n",
    "Work with `aapl_stock.json` from Lab 4 and `titanic` dataset"
   ]
  },
  {
   "cell_type": "code",
   "execution_count": null,
   "id": "a233086b",
   "metadata": {},
   "outputs": [],
   "source": [
    "import pandas as pd\n",
    "import json\n",
    "import matplotlib.pyplot as plt"
   ]
  },
  {
   "cell_type": "markdown",
   "id": "f40bcee6",
   "metadata": {},
   "source": [
    "## Titanic dataset"
   ]
  },
  {
   "cell_type": "code",
   "execution_count": 11,
   "id": "5a8f8221",
   "metadata": {},
   "outputs": [
    {
     "name": "stdout",
     "output_type": "stream",
     "text": [
      "  % Total    % Received % Xferd  Average Speed   Time    Time     Time  Current\n",
      "                                 Dload  Upload   Total   Spent    Left  Speed\n",
      "100 60302  100 60302    0     0   340k      0 --:--:-- --:--:-- --:--:--  340k\n"
     ]
    }
   ],
   "source": [
    "!curl https://raw.githubusercontent.com/pandas-dev/pandas/main/doc/data/titanic.csv --output titanic.csv"
   ]
  },
  {
   "cell_type": "code",
   "execution_count": 14,
   "id": "18696ac1",
   "metadata": {},
   "outputs": [
    {
     "name": "stdout",
     "output_type": "stream",
     "text": [
      "PassengerId,Survived,Pclass,Name,Sex,Age,SibSp,Parch,Ticket,Fare,Cabin,Embarked\r\n",
      "1,0,3,\"Braund, Mr. Owen Harris\",male,22,1,0,A/5 21171,7.25,,S\r\n",
      "2,1,1,\"Cumings, Mrs. John Bradley (Florence Briggs Thayer)\",female,38,1,0,PC 17599,71.2833,C85,C\r\n",
      "3,1,3,\"Heikkinen, Miss. Laina\",female,26,0,0,STON/O2. 3101282,7.925,,S\r\n"
     ]
    }
   ],
   "source": [
    "!head -n 4 titanic.csv # show first 4 lines of file"
   ]
  },
  {
   "cell_type": "markdown",
   "id": "f2ae019f",
   "metadata": {},
   "source": [
    "## AAPL stock dataset\n"
   ]
  },
  {
   "cell_type": "code",
   "execution_count": 5,
   "id": "60225a25",
   "metadata": {},
   "outputs": [],
   "source": [
    "json_file_path = '/home/pi/workspace/labs/aapl_stock.json'"
   ]
  },
  {
   "cell_type": "code",
   "execution_count": null,
   "id": "5b0bd835",
   "metadata": {},
   "outputs": [],
   "source": [
    "aapl_stock = []\n",
    "with open(json_file_path, 'r') as f:\n",
    "    for line in f:\n",
    "        line_json = json.loads(line) # convert json string into dictionary\n",
    "        aapl_stock.append(line_json) # append dictionary to list"
   ]
  },
  {
   "cell_type": "code",
   "execution_count": null,
   "id": "18b35911",
   "metadata": {},
   "outputs": [],
   "source": []
  },
  {
   "cell_type": "markdown",
   "id": "05a93d14",
   "metadata": {},
   "source": [
    "# Understanding DataFrame Objects\n",
    "\n",
    "DataFrame constructor https://pandas.pydata.org/docs/reference/api/pandas.DataFrame.html#pandas.DataFrame"
   ]
  },
  {
   "cell_type": "code",
   "execution_count": null,
   "id": "6e8dd0e8",
   "metadata": {
    "scrolled": true
   },
   "outputs": [],
   "source": [
    "df.dtypes"
   ]
  },
  {
   "cell_type": "markdown",
   "id": "b02f3fbd",
   "metadata": {},
   "source": [
    "# Accessing DataFrame and Series Objects\n"
   ]
  },
  {
   "cell_type": "markdown",
   "id": "1593a198",
   "metadata": {},
   "source": [
    "# Working with Data in Pandas"
   ]
  },
  {
   "cell_type": "markdown",
   "id": "2263e015",
   "metadata": {},
   "source": [
    "# Reading and Writing Data in Pandas\n"
   ]
  },
  {
   "cell_type": "markdown",
   "id": "01798ffe",
   "metadata": {},
   "source": [
    "# Select subset of data\n"
   ]
  },
  {
   "cell_type": "markdown",
   "id": "bcd69d6e",
   "metadata": {},
   "source": [
    "# Create new columns of data\n"
   ]
  },
  {
   "cell_type": "markdown",
   "id": "69ae2542",
   "metadata": {},
   "source": [
    "# Calculate summary statistics\n"
   ]
  },
  {
   "cell_type": "markdown",
   "id": "7d5d8319",
   "metadata": {},
   "source": [
    "# Manipulating Text Data"
   ]
  },
  {
   "cell_type": "code",
   "execution_count": null,
   "id": "ac2d06ed",
   "metadata": {},
   "outputs": [],
   "source": []
  },
  {
   "cell_type": "code",
   "execution_count": null,
   "id": "398c3365",
   "metadata": {},
   "outputs": [],
   "source": []
  },
  {
   "cell_type": "code",
   "execution_count": null,
   "id": "f6429058",
   "metadata": {},
   "outputs": [],
   "source": []
  }
 ],
 "metadata": {
  "kernelspec": {
   "display_name": "Python 3 (ipykernel)",
   "language": "python",
   "name": "python3"
  },
  "language_info": {
   "codemirror_mode": {
    "name": "ipython",
    "version": 3
   },
   "file_extension": ".py",
   "mimetype": "text/x-python",
   "name": "python",
   "nbconvert_exporter": "python",
   "pygments_lexer": "ipython3",
   "version": "3.9.9"
  }
 },
 "nbformat": 4,
 "nbformat_minor": 5
}

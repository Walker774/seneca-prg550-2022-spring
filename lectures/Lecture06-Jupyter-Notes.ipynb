{
 "cells": [
  {
   "cell_type": "markdown",
   "id": "15c01f7b",
   "metadata": {},
   "source": [
    "# Introduction to Jupyter Notebooks\n",
    "\n",
    "Jupyter notebooks is a GUI-based interactive Python session similar to running `python3` from command line\n",
    "\n",
    "The following sections briefly describe how to navigate around the notebook environment"
   ]
  },
  {
   "cell_type": "markdown",
   "id": "c6c505b0",
   "metadata": {},
   "source": [
    "## Editing\n",
    "\n",
    "Default key bindings for working with notebook cells:\n",
    "-  move up / down between cells `arrow up`/`arrow down` or `j`/`k`\n",
    "- 'up', 'down' arrows in menu shift cell order\n",
    "- add new cell below current cell `b`\n",
    "- add new cell above current cell `a`\n",
    "- delete current cell `x` or `dd`\n",
    "\n",
    "### Markdown\n",
    "- use `#` to indicate headings in order to easily find sections of code\n",
    "- sub headings are specified with multiple `#`'s ex:\n",
    "    - `##`\n",
    "    - `###`\n",
    "    - `####`\n",
    "\n",
    "# Heading 1\n",
    "## Heading 2\n",
    "### Heading 3\n",
    "### Heading 4\n",
    "\n",
    "### Checkpoints\n",
    "\n",
    "Make frequent save of your notebook with Menu: --> Save icon\n",
    "\n",
    "You can also take a snapshot of your current code and return to it later by using checkpoints:\n",
    "- File --> Save and Checkpoint\n",
    "- File --> Revert to Checkpoint\n"
   ]
  },
  {
   "cell_type": "markdown",
   "id": "5db3861e",
   "metadata": {},
   "source": [
    "## Cell types\n",
    "\n",
    "There are 3 cell types\n",
    "- code `y`\n",
    "- markdown `m`\n",
    "- raw `r`"
   ]
  },
  {
   "cell_type": "markdown",
   "id": "5cb0401f",
   "metadata": {},
   "source": [
    "## Running cells\n",
    "- ctrl-enter, 'run' icon in menu\n",
    "    - bracked number (`[xx]`) to the left of an executed cell is a counter for number of commands run in current session\n",
    "    - only present for `code` cells\n",
    "\n",
    "- cells print output of last command\n",
    "- cells retain all commands and variables of current session\n",
    "- reset session from Menu:  Kernel --> Restart\n",
    "\n",
    "- clear cell output from Menu:  \n",
    "    1. Cell --> Current Output --> Clear\n",
    "    1. Cell --> All Output --> Clear"
   ]
  },
  {
   "cell_type": "markdown",
   "id": "848298f9",
   "metadata": {},
   "source": [
    "# Data Science with Jupyter Notebook\n",
    "\n",
    "Below is an example code cell to visualize some simple data using two popular packages in Python. \n",
    "\n",
    "We'll use [NumPy](https://numpy.org/) to create some random data, and \n",
    "[Matplotlib](https://matplotlib.org) to visualize it.\n"
   ]
  },
  {
   "cell_type": "code",
   "execution_count": null,
   "id": "c742ca13",
   "metadata": {},
   "outputs": [],
   "source": [
    "from matplotlib import pyplot as plt\n",
    "import numpy as np\n",
    "\n",
    "# Generate 100 random data points along 3 dimensions\n",
    "x, y, scale = np.random.randn(3, 100)\n",
    "fig, ax = plt.subplots()\n",
    "\n",
    "# Map each onto a scatterplot we'll create with Matplotlib\n",
    "ax.scatter(x=x, y=y, c=scale, s=np.abs(scale)*500)\n",
    "ax.set(title=\"Some random data, created with Jupyter!\")\n",
    "plt.show()"
   ]
  },
  {
   "cell_type": "markdown",
   "id": "ed305c49",
   "metadata": {},
   "source": [
    "## Experiment with the above cell and create different charts\n",
    "\n",
    "For example:\n",
    "- using squares\n",
    "- the points are red"
   ]
  },
  {
   "cell_type": "code",
   "execution_count": null,
   "id": "5c00d768",
   "metadata": {},
   "outputs": [],
   "source": []
  },
  {
   "cell_type": "markdown",
   "id": "86c51ba2",
   "metadata": {},
   "source": [
    "## Loading Datasets into Pandas\n",
    "\n",
    "Work with `aapl_stock.json` from Lab 4 and `titanic` dataset"
   ]
  },
  {
   "cell_type": "code",
   "execution_count": null,
   "id": "935a8b15",
   "metadata": {},
   "outputs": [],
   "source": [
    "import pandas as pd\n",
    "import json\n",
    "import matplotlib.pyplot as plt"
   ]
  },
  {
   "cell_type": "code",
   "execution_count": null,
   "id": "4eb11f76",
   "metadata": {},
   "outputs": [],
   "source": []
  },
  {
   "cell_type": "code",
   "execution_count": null,
   "id": "07aaba58",
   "metadata": {},
   "outputs": [],
   "source": []
  },
  {
   "cell_type": "markdown",
   "id": "4316bf86",
   "metadata": {},
   "source": [
    "## Checking the notebook's working directory"
   ]
  },
  {
   "cell_type": "code",
   "execution_count": null,
   "id": "35bdc330",
   "metadata": {},
   "outputs": [],
   "source": [
    "import os\n",
    "os.getcwd()"
   ]
  },
  {
   "cell_type": "markdown",
   "id": "31a05079",
   "metadata": {},
   "source": [
    "### Change working directory"
   ]
  },
  {
   "cell_type": "code",
   "execution_count": null,
   "id": "798b4bd4",
   "metadata": {},
   "outputs": [],
   "source": [
    "os.chdir('/home/pi/workspace/labs')"
   ]
  },
  {
   "cell_type": "code",
   "execution_count": null,
   "id": "37209217",
   "metadata": {},
   "outputs": [],
   "source": [
    "os.getcwd()"
   ]
  },
  {
   "cell_type": "markdown",
   "id": "1b35eba5",
   "metadata": {},
   "source": [
    "## Titanic dataset"
   ]
  },
  {
   "cell_type": "code",
   "execution_count": null,
   "id": "ecd58535",
   "metadata": {},
   "outputs": [],
   "source": [
    "# run curl at command line to download local version of titanic.csv\n",
    "!curl https://raw.githubusercontent.com/pandas-dev/pandas/main/doc/data/titanic.csv --output titanic.csv"
   ]
  },
  {
   "cell_type": "code",
   "execution_count": null,
   "id": "e721d08b",
   "metadata": {},
   "outputs": [],
   "source": [
    "!head -n 4 titanic.csv # show first 4 lines of file"
   ]
  },
  {
   "cell_type": "markdown",
   "id": "4ca8e083",
   "metadata": {},
   "source": [
    "## AAPL stock dataset\n"
   ]
  },
  {
   "cell_type": "code",
   "execution_count": null,
   "id": "e301c1ed",
   "metadata": {},
   "outputs": [],
   "source": [
    "json_file_path = '/home/pi/workspace/labs/aapl_stock.json'"
   ]
  },
  {
   "cell_type": "code",
   "execution_count": null,
   "id": "22feafaf",
   "metadata": {},
   "outputs": [],
   "source": [
    "aapl_stock = []\n",
    "with open(json_file_path, 'r') as f:\n",
    "    for line in f:\n",
    "        line_json = json.loads(line) # convert json string into dictionary\n",
    "        aapl_stock.append(line_json) # append dictionary to list"
   ]
  },
  {
   "cell_type": "code",
   "execution_count": null,
   "id": "77a5397e",
   "metadata": {},
   "outputs": [],
   "source": [
    "aapl_stock[:2]"
   ]
  },
  {
   "cell_type": "code",
   "execution_count": null,
   "id": "12846b98",
   "metadata": {},
   "outputs": [],
   "source": [
    "# pandas dataframe constructor https://pandas.pydata.org/docs/reference/api/pandas.DataFrame.html\n",
    "\n",
    "df = pd.DataFrame(aapl_stock, columns=['date','close_price','volume','open','high','low'])\n"
   ]
  },
  {
   "cell_type": "code",
   "execution_count": null,
   "id": "c9e2e995",
   "metadata": {},
   "outputs": [],
   "source": [
    "type(df)"
   ]
  },
  {
   "cell_type": "code",
   "execution_count": null,
   "id": "a3bd9f29",
   "metadata": {},
   "outputs": [],
   "source": [
    "df.head(3)"
   ]
  },
  {
   "cell_type": "markdown",
   "id": "eb0fabee",
   "metadata": {},
   "source": [
    "# Understanding DataFrame Objects\n",
    "\n",
    "DataFrame constructor https://pandas.pydata.org/docs/reference/api/pandas.DataFrame.html#pandas.DataFrame"
   ]
  },
  {
   "cell_type": "code",
   "execution_count": null,
   "id": "64daec7b",
   "metadata": {
    "scrolled": true
   },
   "outputs": [],
   "source": [
    "df.dtypes"
   ]
  },
  {
   "cell_type": "code",
   "execution_count": null,
   "id": "d1dca84b",
   "metadata": {},
   "outputs": [],
   "source": []
  },
  {
   "cell_type": "markdown",
   "id": "9c06bdcb",
   "metadata": {},
   "source": [
    "# Reading and Writing Data in Pandas\n",
    "\n",
    "https://pandas.pydata.org/docs/getting_started/intro_tutorials/02_read_write.html"
   ]
  },
  {
   "cell_type": "code",
   "execution_count": null,
   "id": "eed6582f",
   "metadata": {},
   "outputs": [],
   "source": []
  },
  {
   "cell_type": "markdown",
   "id": "319227b4",
   "metadata": {},
   "source": [
    "# Select subset of data\n",
    "\n",
    "https://pandas.pydata.org/docs/getting_started/intro_tutorials/03_subset_data.html"
   ]
  },
  {
   "cell_type": "code",
   "execution_count": null,
   "id": "a13cdd98",
   "metadata": {},
   "outputs": [],
   "source": []
  },
  {
   "cell_type": "markdown",
   "id": "3aafb0a8",
   "metadata": {},
   "source": [
    "# Create new columns of data\n",
    "\n",
    "https://pandas.pydata.org/docs/getting_started/intro_tutorials/05_add_columns.html"
   ]
  },
  {
   "cell_type": "markdown",
   "id": "ae2c4870",
   "metadata": {},
   "source": [
    "# Calculate summary statistics\n",
    "https://pandas.pydata.org/docs/getting_started/intro_tutorials/06_calculate_statistics.html"
   ]
  },
  {
   "cell_type": "code",
   "execution_count": null,
   "id": "4da1c7e2",
   "metadata": {},
   "outputs": [],
   "source": []
  },
  {
   "cell_type": "markdown",
   "id": "94b3ae05",
   "metadata": {},
   "source": [
    "# Manipulating Text Data\n",
    "https://pandas.pydata.org/docs/getting_started/intro_tutorials/10_text_data.html"
   ]
  },
  {
   "cell_type": "code",
   "execution_count": null,
   "id": "aed8b22e",
   "metadata": {},
   "outputs": [],
   "source": []
  }
 ],
 "metadata": {
  "kernelspec": {
   "display_name": "Python 3 (ipykernel)",
   "language": "python",
   "name": "python3"
  },
  "language_info": {
   "codemirror_mode": {
    "name": "ipython",
    "version": 3
   },
   "file_extension": ".py",
   "mimetype": "text/x-python",
   "name": "python",
   "nbconvert_exporter": "python",
   "pygments_lexer": "ipython3",
   "version": "3.9.9"
  }
 },
 "nbformat": 4,
 "nbformat_minor": 5
}
